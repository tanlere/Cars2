{
 "cells": [
  {
   "cell_type": "code",
   "execution_count": 12,
   "metadata": {},
   "outputs": [
    {
     "name": "stdout",
     "output_type": "stream",
     "text": [
      "Defaulting to user installation because normal site-packages is not writeable\n",
      "Requirement already satisfied: opencv-python-headless in /Users/eligrayy/Library/Python/3.9/lib/python/site-packages (4.9.0.80)\n",
      "Requirement already satisfied: numpy>=1.17.0 in /Users/eligrayy/Library/Python/3.9/lib/python/site-packages (from opencv-python-headless) (1.26.4)\n",
      "\u001b[33mWARNING: You are using pip version 21.2.4; however, version 24.0 is available.\n",
      "You should consider upgrading via the '/Library/Developer/CommandLineTools/usr/bin/python3 -m pip install --upgrade pip' command.\u001b[0m\n",
      "Note: you may need to restart the kernel to use updated packages.\n"
     ]
    }
   ],
   "source": [
    "pip install opencv-python-headless"
   ]
  },
  {
   "cell_type": "code",
   "execution_count": 13,
   "metadata": {},
   "outputs": [],
   "source": [
    "import cv2\n",
    "import numpy as np\n",
    "\n",
    "# Load the video\n",
    "cap = cv2.VideoCapture('video.mp4')\n",
    "\n",
    "while cap.isOpened():\n",
    "    ret, frame = cap.read()\n",
    "    if not ret:\n",
    "        break\n",
    "\n",
    "    # Show the frame\n",
    "    cv2.imshow('frame', frame)\n",
    "\n",
    "    if cv2.waitKey(1) & 0xFF == ord('q'):\n",
    "        break\n",
    "\n",
    "cap.release()\n",
    "cv2.destroyAllWindows()\n"
   ]
  },
  {
   "cell_type": "code",
   "execution_count": 14,
   "metadata": {},
   "outputs": [],
   "source": [
    "    gray = cv2.cvtColor(frame, cv2.COLOR_BGR2GRAY)\n",
    "    blur = cv2.GaussianBlur(gray, (5, 5), 0)\n",
    "    edges = cv2.Canny(blur, 50, 150)\n"
   ]
  },
  {
   "cell_type": "code",
   "execution_count": 15,
   "metadata": {},
   "outputs": [],
   "source": [
    "def region_of_interest(edges):\n",
    "    height, width = edges.shape\n",
    "    mask = np.zeros_like(edges)\n",
    "\n",
    "    # Only focus on the bottom triangle of the video\n",
    "    triangle = np.array([\n",
    "        [(100, height), (width - 100, height), (width // 2, height // 2)]\n",
    "    ], np.int32)\n",
    "\n",
    "    cv2.fillPoly(mask, triangle, 255)\n",
    "    masked_image = cv2.bitwise_and(edges, mask)\n",
    "    return masked_image\n",
    "\n",
    "def display_lines(frame, lines):\n",
    "    line_image = np.zeros_like(frame)\n",
    "    if lines is not None:\n",
    "        for line in lines:\n",
    "            for x1, y1, x2, y2 in line:\n",
    "                cv2.line(line_image, (x1, y1), (x2, y2), (0, 255, 0), 10)\n",
    "    return line_image\n",
    "\n",
    "# In your main loop, after converting to edges\n",
    "masked_edges = region_of_interest(edges)\n",
    "lines = cv2.HoughLinesP(masked_edges, 2, np.pi / 180, 100, np.array([]), minLineLength=40, maxLineGap=5)\n",
    "line_image = display_lines(frame, lines)\n",
    "\n",
    "# Combine the line image with the original frame\n",
    "combo_image = cv2.addWeighted(frame, 0.8, line_image, 1, 1)\n"
   ]
  },
  {
   "cell_type": "code",
   "execution_count": 16,
   "metadata": {},
   "outputs": [],
   "source": [
    "width = int(cap.get(cv2.CAP_PROP_FRAME_WIDTH))\n",
    "height = int(cap.get(cv2.CAP_PROP_FRAME_HEIGHT))\n",
    "\n",
    "fourcc = cv2.VideoWriter_fourcc(*'mp4v')  # Use the codec compatible with QuickTime\n",
    "out = cv2.VideoWriter('output.mp4', fourcc, 20.0, (width, height))\n",
    "\n",
    "while cap.isOpened():\n",
    "    # Your processing code\n",
    "    out.write(combo_image)  # Write out the frame\n",
    "\n",
    "    # Your display and break code\n",
    "\n",
    "cap.release()\n",
    "out.release()  # Don't forget to release the writer\n",
    "cv2.destroyAllWindows()\n"
   ]
  }
 ],
 "metadata": {
  "kernelspec": {
   "display_name": "Python 3",
   "language": "python",
   "name": "python3"
  },
  "language_info": {
   "codemirror_mode": {
    "name": "ipython",
    "version": 3
   },
   "file_extension": ".py",
   "mimetype": "text/x-python",
   "name": "python",
   "nbconvert_exporter": "python",
   "pygments_lexer": "ipython3",
   "version": "3.9.6"
  },
  "orig_nbformat": 4
 },
 "nbformat": 4,
 "nbformat_minor": 2
}
